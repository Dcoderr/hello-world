{
 "cells": [
  {
   "cell_type": "code",
   "execution_count": 21,
   "metadata": {},
   "outputs": [],
   "source": [
    "import os\n"
   ]
  },
  {
   "cell_type": "code",
   "execution_count": 22,
   "metadata": {},
   "outputs": [],
   "source": [
    "if not os.path.exists(\"data\"):\n",
    "    os.makedirs(\"data\")\n",
    "    os.makedirs(\"data/train\")\n",
    "    os.makedirs(\"data/test\")"
   ]
  },
  {
   "cell_type": "code",
   "execution_count": 27,
   "metadata": {},
   "outputs": [],
   "source": [
    "import cv2\n"
   ]
  },
  {
   "cell_type": "code",
   "execution_count": 28,
   "metadata": {},
   "outputs": [],
   "source": [
    "cap = cv2.VideoCapture(0)\n",
    "status,photo=cap.read()"
   ]
  },
  {
   "cell_type": "code",
   "execution_count": 29,
   "metadata": {},
   "outputs": [],
   "source": [
    "count =0"
   ]
  },
  {
   "cell_type": "code",
   "execution_count": null,
   "metadata": {},
   "outputs": [],
   "source": [
    "#TO MAKE DIFFERNT FOLDERS FOR DIFFERENT NUMBERS WILL CHANGE THE NO IN LINE 1 AND 9"
   ]
  },
  {
   "cell_type": "code",
   "execution_count": 30,
   "metadata": {},
   "outputs": [],
   "source": [
    "    os.makedirs('data/train/2')\n",
    "    while count<200:\n",
    "        status,photo=cap.read()\n",
    "        disp=photo[200:400,200:400,]\n",
    "        cv2.rectangle(photo, (200,200), (400,400), (255,22,0) ,1)\n",
    "        photo[0:200,0:200,:]=disp\n",
    "        cv2.imshow('check',photo)\n",
    "        face = cv2.cvtColor(disp, cv2.COLOR_BGR2GRAY)    \n",
    "        file_name_path = 'C://Users//Ashutosh//Desktop//mlop task3//data//train//2//' +str(count) + '.jpg'\n",
    "        cv2.imwrite(file_name_path,face)\n",
    "        count+=1\n",
    "        if cv2.waitKey(1)==13:\n",
    "            break\n",
    "        \n",
    "        \n",
    "    cv2.destroyAllWindows()\n",
    "\n",
    "    "
   ]
  },
  {
   "cell_type": "code",
   "execution_count": 31,
   "metadata": {},
   "outputs": [],
   "source": [
    "cap.release()"
   ]
  },
  {
   "cell_type": "code",
   "execution_count": 33,
   "metadata": {},
   "outputs": [],
   "source": [
    "#SIMILARLY DATA IS CREATED FOR TEST FOLDER COUNT"
   ]
  },
  {
   "cell_type": "code",
   "execution_count": null,
   "metadata": {},
   "outputs": [],
   "source": []
  }
 ],
 "metadata": {
  "kernelspec": {
   "display_name": "Python 3",
   "language": "python",
   "name": "python3"
  },
  "language_info": {
   "codemirror_mode": {
    "name": "ipython",
    "version": 3
   },
   "file_extension": ".py",
   "mimetype": "text/x-python",
   "name": "python",
   "nbconvert_exporter": "python",
   "pygments_lexer": "ipython3",
   "version": "3.7.6"
  }
 },
 "nbformat": 4,
 "nbformat_minor": 4
}
